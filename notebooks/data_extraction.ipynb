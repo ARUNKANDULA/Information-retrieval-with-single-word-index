{
 "cells": [
  {
   "cell_type": "code",
   "execution_count": 2,
   "metadata": {},
   "outputs": [],
   "source": [
    "import os\n",
    "import sys\n",
    "import regex as re\n",
    "from nltk.stem import PorterStemmer\n",
    "sys.path.append(\"../\")\n",
    "from data_extraction.utils import data_extraction\n",
    "\n",
    "ps = PorterStemmer()"
   ]
  },
  {
   "cell_type": "code",
   "execution_count": 3,
   "metadata": {},
   "outputs": [],
   "source": [
    "data_path = '../data'\n",
    "doc_id_tag = 'DOCNO'\n",
    "doc_text_tag = 'TEXT'"
   ]
  },
  {
   "cell_type": "markdown",
   "metadata": {},
   "source": [
    "# Loading stopwords"
   ]
  },
  {
   "cell_type": "code",
   "execution_count": 4,
   "metadata": {},
   "outputs": [
    {
     "name": "stdout",
     "output_type": "stream",
     "text": [
      "['a', 'able', 'about', 'above', 'according', 'accordingly', 'across', 'actually', 'after', 'afterwards']\n"
     ]
    }
   ],
   "source": [
    "stopwords_path = '../stopwordlist.txt'\n",
    "with open(stopwords_path, 'r') as file:\n",
    "    stopwords = file.read()\n",
    "    stopwords = stopwords.split('\\n')\n",
    "    stopwords_list = [word.strip().lower() for word in stopwords if word]\n",
    "\n",
    "print(stopwords_list[:10])\n"
   ]
  },
  {
   "cell_type": "code",
   "execution_count": 5,
   "metadata": {},
   "outputs": [],
   "source": [
    "# extract text from all folders and files\n",
    "extracted_text = {}\n",
    "\n",
    "for folderID in os.listdir(data_path):\n",
    "    extracted_text[folderID] = {}\n",
    "    with open(os.path.join(data_path, folderID), 'r') as file:\n",
    "        content = file.read()\n",
    "        sub_files = content.split('<DOC>')\n",
    "        sub_files = [file for file in sub_files if len(file) > 0]\n",
    "        for file in sub_files:\n",
    "            docID = data_extraction.extract_text_between_tags(file, doc_id_tag)\n",
    "            text = data_extraction.extract_text_between_tags(file, doc_text_tag)\n",
    "            words = data_extraction.tokenizer(text, stopwords_list)\n",
    "            # stemming with Porter Stemmer\n",
    "            stemmed_words = [ps.stem(word) for word in words]\n",
    "            extracted_text[folderID][docID] = stemmed_words"
   ]
  },
  {
   "cell_type": "markdown",
   "metadata": {},
   "source": [
    "# Summary of dataset"
   ]
  },
  {
   "cell_type": "code",
   "execution_count": 6,
   "metadata": {},
   "outputs": [
    {
     "name": "stdout",
     "output_type": "stream",
     "text": [
      "No. of main docs in dataset :  15\n",
      "No. of total sub documents in all main docs :  5368\n",
      "No. of total unique tokens in entire dataset :  32606\n"
     ]
    }
   ],
   "source": [
    "# Total sub docs\n",
    "total_docids = []\n",
    "total_sub_docs = 0\n",
    "for key, _ in extracted_text.items():\n",
    "    total_sub_docs += len(extracted_text[key])\n",
    "    total_docids.extend(extracted_text[key].keys())\n",
    "\n",
    "# Total tokens\n",
    "tokens_list = []\n",
    "for key, _ in extracted_text.items():\n",
    "    for key, values in extracted_text[key].items():\n",
    "        tokens_list.extend(values)\n",
    "unique_tokens_list = sorted(list(set(tokens_list)))\n",
    "\n",
    "print(\"No. of main docs in dataset : \", len(extracted_text.keys()))\n",
    "print(\"No. of total sub documents in all main docs : \", total_sub_docs)\n",
    "print(\"No. of total unique tokens in entire dataset : \", len(unique_tokens_list))"
   ]
  },
  {
   "cell_type": "markdown",
   "metadata": {},
   "source": [
    "# Saving tokens and document ID in a text file"
   ]
  },
  {
   "cell_type": "code",
   "execution_count": 7,
   "metadata": {},
   "outputs": [],
   "source": [
    "# Saving output\n",
    "with open('../output/parser_output.txt', 'w') as file:\n",
    "    for index in range(len(unique_tokens_list)):\n",
    "        file.write(f'{index} : {unique_tokens_list[index]}\\n')\n",
    "    for index in range(len(total_docids)):\n",
    "        file.write(f'{index} : {total_docids[index]}\\n')"
   ]
  }
 ],
 "metadata": {
  "kernelspec": {
   "display_name": "ir_project",
   "language": "python",
   "name": "python3"
  },
  "language_info": {
   "codemirror_mode": {
    "name": "ipython",
    "version": 3
   },
   "file_extension": ".py",
   "mimetype": "text/x-python",
   "name": "python",
   "nbconvert_exporter": "python",
   "pygments_lexer": "ipython3",
   "version": "3.10.15"
  }
 },
 "nbformat": 4,
 "nbformat_minor": 2
}
