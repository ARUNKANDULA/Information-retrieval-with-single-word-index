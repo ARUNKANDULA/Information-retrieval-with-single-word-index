{
 "cells": [
  {
   "cell_type": "code",
   "execution_count": 40,
   "metadata": {},
   "outputs": [],
   "source": [
    "import os\n",
    "import regex as re"
   ]
  },
  {
   "cell_type": "code",
   "execution_count": 41,
   "metadata": {},
   "outputs": [],
   "source": [
    "data_path = '../data'\n",
    "doc_id_tag = 'DOCNO'\n",
    "doc_text_tag = 'TEXT'"
   ]
  },
  {
   "cell_type": "markdown",
   "metadata": {},
   "source": [
    "# Loading stopwords"
   ]
  },
  {
   "cell_type": "code",
   "execution_count": 42,
   "metadata": {},
   "outputs": [
    {
     "name": "stdout",
     "output_type": "stream",
     "text": [
      "['a', 'able', 'about', 'above', 'according', 'accordingly', 'across', 'actually', 'after', 'afterwards', 'again', 'against', 'all', 'allow', 'allows', 'almost', 'alone', 'along', 'already', 'also', 'although', 'always', 'am', 'among', 'amongst', 'an', 'and', 'another', 'any', 'anybody', 'anyhow', 'anyone', 'anything', 'anyway', 'anyways', 'anywhere', 'apart', 'appear', 'appreciate', 'appropriate', 'are', 'around', 'as', 'aside', 'ask', 'asking', 'associated', 'at', 'available', 'away', 'awfully', 'b', 'be', 'became', 'because', 'become', 'becomes', 'becoming', 'been', 'before', 'beforehand', 'behind', 'being', 'believe', 'below', 'beside', 'besides', 'best', 'better', 'between', 'beyond', 'both', 'brief', 'but', 'by', 'c', 'came', 'can', 'cannot', 'cant', 'cause', 'causes', 'certain', 'certainly', 'changes', 'clearly', 'co', 'com', 'come', 'comes', 'concerning', 'consequently', 'consider', 'considering', 'contain', 'containing', 'contains', 'corresponding', 'could', 'course', 'currently', 'd', 'definitely', 'described', 'despite', 'did', 'different', 'do', 'does', 'doing', 'done', 'down', 'downwards', 'during', 'e', 'each', 'edu', 'eg', 'eight', 'either', 'else', 'elsewhere', 'enough', 'entirely', 'especially', 'et', 'etc', 'even', 'ever', 'every', 'everybody', 'everyone', 'everything', 'everywhere', 'ex', 'exactly', 'example', 'except', 'f', 'far', 'few', 'fifth', 'first', 'five', 'followed', 'following', 'follows', 'for', 'former', 'formerly', 'forth', 'four', 'from', 'further', 'furthermore', 'g', 'get', 'gets', 'getting', 'given', 'gives', 'go', 'goes', 'going', 'gone', 'got', 'gotten', 'greetings', 'h', 'had', 'happens', 'hardly', 'has', 'have', 'having', 'he', 'hello', 'help', 'hence', 'her', 'here', 'hereafter', 'hereby', 'herein', 'hereupon', 'hers', 'herself', 'hi', 'him', 'himself', 'his', 'hither', 'hopefully', 'how', 'howbeit', 'however', 'i', 'ie', 'if', 'ignored', 'immediate', 'in', 'inasmuch', 'inc', 'indeed', 'indicate', 'indicated', 'indicates', 'inner', 'insofar', 'instead', 'into', 'inward', 'is', 'it', 'its', 'itself', 'j', 'just', 'k', 'keep', 'keeps', 'kept', 'know', 'knows', 'known', 'l', 'last', 'lately', 'later', 'latter', 'latterly', 'least', 'less', 'lest', 'let', 'like', 'liked', 'likely', 'little', 'look', 'looking', 'looks', 'ltd', 'm', 'mainly', 'many', 'may', 'maybe', 'me', 'mean', 'meanwhile', 'merely', 'might', 'more', 'moreover', 'most', 'mostly', 'much', 'must', 'my', 'myself', 'n', 'name', 'namely', 'nd', 'near', 'nearly', 'necessary', 'need', 'needs', 'neither', 'never', 'nevertheless', 'new', 'next', 'nine', 'no', 'nobody', 'non', 'none', 'noone', 'nor', 'normally', 'not', 'nothing', 'novel', 'now', 'nowhere', 'o', 'obviously', 'of', 'off', 'often', 'oh', 'ok', 'okay', 'old', 'on', 'once', 'one', 'ones', 'only', 'onto', 'or', 'other', 'others', 'otherwise', 'ought', 'our', 'ours', 'ourselves', 'out', 'outside', 'over', 'overall', 'own', 'p', 'particular', 'particularly', 'per', 'perhaps', 'placed', 'please', 'plus', 'possible', 'presumably', 'probably', 'provides', 'q', 'que', 'quite', 'qv', 'r', 'rather', 'rd', 're', 'really', 'reasonably', 'regarding', 'regardless', 'regards', 'relatively', 'respectively', 'right', 's', 'said', 'same', 'saw', 'say', 'saying', 'says', 'second', 'secondly', 'see', 'seeing', 'seem', 'seemed', 'seeming', 'seems', 'seen', 'self', 'selves', 'sensible', 'sent', 'serious', 'seriously', 'seven', 'several', 'shall', 'she', 'should', 'since', 'six', 'so', 'some', 'somebody', 'somehow', 'someone', 'something', 'sometime', 'sometimes', 'somewhat', 'somewhere', 'soon', 'sorry', 'specified', 'specify', 'specifying', 'still', 'sub', 'such', 'sup', 'sure', 't', 'take', 'taken', 'tell', 'tends', 'th', 'than', 'thank', 'thanks', 'thanx', 'that', 'thats', 'the', 'their', 'theirs', 'them', 'themselves', 'then', 'thence', 'there', 'thereafter', 'thereby', 'therefore', 'therein', 'theres', 'thereupon', 'these', 'they', 'think', 'third', 'this', 'thorough', 'thoroughly', 'those', 'though', 'three', 'through', 'throughout', 'thru', 'thus', 'to', 'together', 'too', 'took', 'toward', 'towards', 'tried', 'tries', 'truly', 'try', 'trying', 'twice', 'two', 'u', 'un', 'under', 'unfortunately', 'unless', 'unlikely', 'until', 'unto', 'up', 'upon', 'us', 'use', 'used', 'useful', 'uses', 'using', 'usually', 'uucp', 'v', 'value', 'various', 'very', 'via', 'viz', 'vs', 'w', 'want', 'wants', 'was', 'way', 'we', 'welcome', 'well', 'went', 'were', 'what', 'whatever', 'when', 'whence', 'whenever', 'where', 'whereafter', 'whereas', 'whereby', 'wherein', 'whereupon', 'wherever', 'whether', 'which', 'while', 'whither', 'who', 'whoever', 'whole', 'whom', 'whose', 'why', 'will', 'willing', 'wish', 'with', 'within', 'without', 'wonder', 'would', 'would', 'x', 'y', 'yes', 'yet', 'you', 'your', 'yours', 'yourself', 'yourselves', 'z', 'zero']\n"
     ]
    }
   ],
   "source": [
    "stopwords_path = '../stopwordlist.txt'\n",
    "with open(stopwords_path, 'r') as file:\n",
    "    stopwords = file.read()\n",
    "    stopwords = stopwords.split('\\n')\n",
    "    stopwords_list = [word.strip().lower() for word in stopwords if word]\n",
    "\n",
    "print(stopwords_list)\n"
   ]
  },
  {
   "cell_type": "code",
   "execution_count": 54,
   "metadata": {},
   "outputs": [],
   "source": [
    "def extract_text_between_tags(doc, tag) -> str:\n",
    "    '''\n",
    "    inputs:\n",
    "        - doc: string of individual html doc\n",
    "        - tag: name of the tag between which the text should be extracted\n",
    "\n",
    "    output:\n",
    "        - string of extracted text\n",
    "    '''\n",
    "    start_tag = f'<{tag}>'  # opening tag\n",
    "    end_tag = f'</{tag}>'   # closing tag\n",
    "    start_index = 0\n",
    "\n",
    "    while True:\n",
    "        start_index = doc.find(start_tag, start_index)\n",
    "        if start_index == -1:\n",
    "            break\n",
    "        start_index += len(start_tag)\n",
    "        end_index = doc.find(end_tag, start_index)\n",
    "        if end_index == -1:\n",
    "            break\n",
    "        extracted_text = doc[start_index:end_index].strip()\n",
    "        start_index = end_index + len(end_tag)\n",
    "\n",
    "    return extracted_text\n",
    "\n",
    "def tokenizer(text) -> list:\n",
    "    # excluding numbers and any words that contain numbers in the provided text\n",
    "    cleaned_text = re.sub(r'\\b\\w*\\d\\w*\\b', '', text)\n",
    "    # removing any extra spaces between words that was created after excluding numbers from above line \n",
    "    cleaned_text = re.sub(r'\\s+', ' ', cleaned_text).strip()    # removing any leading or trailing spaces with .strip()\n",
    "    # split on all nonalphanumeric characters\n",
    "    words = re.split(r'\\W+', cleaned_text)\n",
    "    # removing any empty strings created after splitting and converting all the words to lower case\n",
    "    words = [word.lower() for word in words if word]\n",
    "    # soring all the words\n",
    "    words = sorted(words)\n",
    "    # removing stop words\n",
    "    words = [word for word in words if word not in stopwords_list]\n",
    "\n",
    "    # eliminating duplicate words in the list\n",
    "    words = list(set(words))\n",
    "    \n",
    "    return words"
   ]
  },
  {
   "cell_type": "code",
   "execution_count": 55,
   "metadata": {},
   "outputs": [],
   "source": [
    "# to extract text from all folders and files\n",
    "extracted_text = {}\n",
    "\n",
    "for folderID in os.listdir(data_path):\n",
    "    extracted_text[folderID] = {}\n",
    "    with open(os.path.join(data_path, folderID), 'r') as file:\n",
    "        content = file.read()\n",
    "        sub_files = content.split('<DOC>')\n",
    "        sub_files = [file for file in sub_files if len(file) > 0]\n",
    "        for file in sub_files:\n",
    "            docID = extract_text_between_tags(file, doc_id_tag)\n",
    "            text = extract_text_between_tags(file, doc_text_tag)\n",
    "            words = tokenizer(text)\n",
    "            extracted_text[folderID][docID] = words"
   ]
  },
  {
   "cell_type": "code",
   "execution_count": 57,
   "metadata": {},
   "outputs": [
    {
     "name": "stdout",
     "output_type": "stream",
     "text": [
      "375\n",
      "371\n",
      "322\n",
      "350\n",
      "383\n",
      "380\n",
      "240\n",
      "346\n",
      "377\n",
      "380\n",
      "353\n",
      "380\n",
      "409\n",
      "329\n",
      "373\n"
     ]
    }
   ],
   "source": [
    "for key, _ in extracted_text.items():\n",
    "    print(len(extracted_text[key]))"
   ]
  }
 ],
 "metadata": {
  "kernelspec": {
   "display_name": "ir_project",
   "language": "python",
   "name": "ir_project"
  },
  "language_info": {
   "codemirror_mode": {
    "name": "ipython",
    "version": 3
   },
   "file_extension": ".py",
   "mimetype": "text/x-python",
   "name": "python",
   "nbconvert_exporter": "python",
   "pygments_lexer": "ipython3",
   "version": "3.10.15"
  }
 },
 "nbformat": 4,
 "nbformat_minor": 2
}
